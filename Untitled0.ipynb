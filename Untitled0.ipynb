{
  "nbformat": 4,
  "nbformat_minor": 0,
  "metadata": {
    "colab": {
      "provenance": [],
      "authorship_tag": "ABX9TyNJgv+GdDqJuNghnx1hxYsb",
      "include_colab_link": true
    },
    "kernelspec": {
      "name": "python3",
      "display_name": "Python 3"
    },
    "language_info": {
      "name": "python"
    }
  },
  "cells": [
    {
      "cell_type": "markdown",
      "metadata": {
        "id": "view-in-github",
        "colab_type": "text"
      },
      "source": [
        "<a href=\"https://colab.research.google.com/github/Oliveira-Pietrobon/Aplica-o-em-Python-para-executar-no-ambiente-de-desenvolvimento-do-Colab/blob/main/Untitled0.ipynb\" target=\"_parent\"><img src=\"https://colab.research.google.com/assets/colab-badge.svg\" alt=\"Open In Colab\"/></a>"
      ]
    },
    {
      "cell_type": "code",
      "execution_count": 2,
      "metadata": {
        "colab": {
          "base_uri": "https://localhost:8080/"
        },
        "id": "kAumbA-yS6OS",
        "outputId": "b36ba152-07a2-4e7e-8a98-7cac78e99a5a"
      },
      "outputs": [
        {
          "output_type": "stream",
          "name": "stdout",
          "text": [
            "Total de pixels: 1510152\n",
            "Pixels sem dados: 730470\n",
            "Pixels de soja: 231 (252300.58 hectares)\n",
            "Pixels de pastagem: 12819 (14001043.65 hectares)\n"
          ]
        }
      ],
      "source": [
        "from PIL import Image\n",
        "import numpy as np\n",
        "\n",
        "# Carregar a imagem (substitua pelo caminho correto para sua imagem)\n",
        "image_path = \"imagem.png\"  # Substituir pelo nome correto da imagem\n",
        "image = Image.open(image_path)\n",
        "\n",
        "# Converter a imagem para uma matriz NumPy\n",
        "image_data = np.array(image)\n",
        "\n",
        "# Passo 1: Quantidade total de pixels\n",
        "total_pixels = image_data.size\n",
        "\n",
        "# Passo 2: Quantidade de pixels sem dados (código 0)\n",
        "pixels_sem_dados = np.sum(image_data == 0)\n",
        "\n",
        "# Passo 3: Quantidade de pixels correspondente ao plantio de Soja (código 39)\n",
        "pixels_soja = np.sum(image_data == 39)\n",
        "\n",
        "# Passo 4: Quantidade de pixels correspondente à pastagem (código 15)\n",
        "pixels_pastagem = np.sum(image_data == 15)\n",
        "\n",
        "# Subtraindo pixels sem dados para calcular área utilizável\n",
        "usable_pixels = total_pixels - pixels_sem_dados\n",
        "\n",
        "# Área total do Brasil em hectares (segundo IBGE, 8.515.767 km²)\n",
        "brasil_hectares = 8_515_767 * 100  # 1 km² = 100 hectares\n",
        "\n",
        "# Proporção de área coberta por soja e pastagem\n",
        "soja_hectares = (pixels_soja / usable_pixels) * brasil_hectares\n",
        "pastagem_hectares = (pixels_pastagem / usable_pixels) * brasil_hectares\n",
        "\n",
        "# Resultados\n",
        "print(f\"Total de pixels: {total_pixels}\")\n",
        "print(f\"Pixels sem dados: {pixels_sem_dados}\")\n",
        "print(f\"Pixels de soja: {pixels_soja} ({soja_hectares:.2f} hectares)\")\n",
        "print(f\"Pixels de pastagem: {pixels_pastagem} ({pastagem_hectares:.2f} hectares)\")\n"
      ]
    }
  ]
}